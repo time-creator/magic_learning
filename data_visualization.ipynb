{
 "cells": [
  {
   "cell_type": "code",
   "execution_count": null,
   "id": "1f9f29fc-297c-40a5-aa01-f7fa0546cf01",
   "metadata": {
    "tags": []
   },
   "outputs": [],
   "source": [
    "# Import statements\n",
    "import numpy as np\n",
    "import pandas as pd\n",
    "import seaborn as sns\n",
    "import matplotlib.pyplot as plt\n",
    "\n",
    "%matplotlib inline"
   ]
  },
  {
   "cell_type": "code",
   "execution_count": null,
   "id": "79896ac1-6587-4677-9316-a567c453fbac",
   "metadata": {},
   "outputs": [],
   "source": [
    "# Load the data into a pandas DataFrame\n",
    "df = pd.read_json('bulk_data_default_cards.json')\n",
    "\n",
    "df.head()"
   ]
  },
  {
   "cell_type": "code",
   "execution_count": null,
   "id": "04808352-0208-48b9-a949-444a5991680d",
   "metadata": {},
   "outputs": [],
   "source": [
    "df.shape"
   ]
  },
  {
   "cell_type": "code",
   "execution_count": null,
   "id": "e2439916-9db9-4901-bd88-6ff6708da274",
   "metadata": {},
   "outputs": [],
   "source": [
    "# These are all the columns of our DataFrame and thus all the information provided for a Magic: The Gathering card\n",
    "df.columns.values"
   ]
  },
  {
   "cell_type": "code",
   "execution_count": null,
   "id": "0b0bd996-0cc3-4552-959b-b57665da8382",
   "metadata": {},
   "outputs": [],
   "source": [
    "# Kick things off by taking a look at the most recent (as of 20.10.2022) set \"Dominare United\" (DMU)\n",
    "dmu_df = df[df['set'] == 'dmu']\n",
    "\n",
    "dmu_df.shape"
   ]
  },
  {
   "cell_type": "code",
   "execution_count": null,
   "id": "6860c1a1-4733-4e33-bfad-3abb2d707094",
   "metadata": {},
   "outputs": [],
   "source": [
    "# As we can see, we end up with a DataFrame containing 434 rows (cards) which matches the set size found on Scryfall.\n",
    "# \"All good so far!\" is what I'd like to say but lets inspect the DataFrame.\n",
    "dmu_df[dmu_df['name'] == 'Jodah, the Unifier']"
   ]
  },
  {
   "cell_type": "code",
   "execution_count": null,
   "id": "97ecf8e6-0c44-468f-a126-82ee9a00b29d",
   "metadata": {},
   "outputs": [],
   "source": [
    "# What's that? We got several copies of the same card! Though they all have different IDs so they are not the same?\n",
    "# The thing is Magic: The Gathering started to have different prints of the same card in sets (fullart, special arts, etc.).\n",
    "# One way to get rid of these multiples is to also look for the value in the 'booster' column to be true.\n",
    "dmu_df = dmu_df[dmu_df['booster'] == True]\n",
    "\n",
    "dmu_df.shape"
   ]
  },
  {
   "cell_type": "code",
   "execution_count": null,
   "id": "ccee6b1c-6599-452c-b39e-eba59bc441fe",
   "metadata": {},
   "outputs": [],
   "source": [
    "# With this we're down to 281 unique cards, which is in line with the official set size (can be found here: https://mtg.fandom.com/wiki/Dominaria_United)"
   ]
  },
  {
   "cell_type": "code",
   "execution_count": null,
   "id": "92eae2d3-3bcb-47be-8ce5-f0858bb2dc1b",
   "metadata": {},
   "outputs": [],
   "source": [
    "# Plot how many cards we got of each color / color combination\n",
    "\n",
    "count_by_color = sns.barplot(x=[''.join(color for color in colors) for colors in dmu_df.colors.value_counts().index],\n",
    "                 y=dmu_df.colors.value_counts())\n",
    "\n",
    "for item in count_by_color.get_xticklabels():\n",
    "    item.set_rotation(90)"
   ]
  },
  {
   "cell_type": "code",
   "execution_count": null,
   "id": "6b3460d2-2de6-4ee2-9930-4a534e0ec267",
   "metadata": {},
   "outputs": [],
   "source": [
    "# Oops! We really should remove 'Land' type cards when looking at the set (these count as colorless!)\n",
    "dmu_df_no_lands = dmu_df[~dmu_df['type_line'].astype(str).str.contains('Land')]\n",
    "\n",
    "dmu_df_no_lands.shape"
   ]
  },
  {
   "cell_type": "code",
   "execution_count": null,
   "id": "7ad57cfb-ec49-4854-b063-3e4427bb3b19",
   "metadata": {},
   "outputs": [],
   "source": [
    "# Yep, this checks out! We have 20 Basic Lands and 19 Non-Basic Lands thus 242 + 20 + 19 = 281 which is the number of cards\n",
    "# when filtered by set dmu and booster True. So let's plot the set again:\n",
    "count_by_color = sns.barplot(x=[''.join(color for color in colors) for colors in dmu_df_no_lands.colors.value_counts().index],\n",
    "                 y=dmu_df_no_lands.colors.value_counts())\n",
    "\n",
    "for item in count_by_color.get_xticklabels():\n",
    "    item.set_rotation(90)"
   ]
  },
  {
   "cell_type": "code",
   "execution_count": null,
   "id": "48130a6f-aa96-4b72-ae78-cb2234d764b9",
   "metadata": {},
   "outputs": [],
   "source": [
    "# Wrap this up in a method..\n",
    "def plot_card_count_by_color(set: str) -> None:\n",
    "    set_df = df[(df['set'] == set) & (df['booster'] == True) & (~df['type_line'].astype(str).str.contains('Land'))]\n",
    "    set_colors = set_df.colors.value_counts()\n",
    "    count_by_color = sns.barplot(x=[''.join(color for color in colors) for colors in set_colors.index],\n",
    "                                 y=set_colors)\n",
    "    count_by_color.set(xlabel='Colors', ylabel='Count')\n",
    "    for item in count_by_color.get_xticklabels():\n",
    "        item.set_rotation(90)"
   ]
  },
  {
   "cell_type": "code",
   "execution_count": null,
   "id": "1022880c-73f4-424b-809b-189b5d5ec1bb",
   "metadata": {},
   "outputs": [],
   "source": [
    "# ..and use it for all the sets you want to\n",
    "plot_card_count_by_color('2x2')"
   ]
  },
  {
   "cell_type": "code",
   "execution_count": null,
   "id": "0215f5da-9f8b-45c4-8540-710d40a220e6",
   "metadata": {},
   "outputs": [],
   "source": [
    "# Now the question arises, apart from card count by color what else is there to look at in a single set?\n",
    "# How about card cost by color? Maybe power and toughness of creature type cards?\n",
    "\n",
    "# Same graph for mana value (converted mana cost) per card:\n",
    "def plot_card_count_by_mv(set: str) -> None:\n",
    "    # We still do not want Lands as they are cards with mana value (mv) of 0\n",
    "    set_df = df[(df['set'] == set) & (df['booster'] == True) & (~df['type_line'].astype(str).str.contains('Land'))]\n",
    "    set_cmcs = set_df.cmc.value_counts()\n",
    "    count_by_cmc = sns.barplot(x=set_cmcs.index,\n",
    "                                 y=set_cmcs)\n",
    "    count_by_cmc.set(xlabel='Mana Cost', ylabel='Count')\n",
    "    for item in count_by_cmc.get_xticklabels():\n",
    "        item.set_rotation(90)"
   ]
  },
  {
   "cell_type": "code",
   "execution_count": null,
   "id": "cdc1ee1e-5ffb-4fd6-a74e-31a9288275a2",
   "metadata": {
    "tags": []
   },
   "outputs": [],
   "source": [
    "plot_card_count_by_mv('2x2')"
   ]
  },
  {
   "cell_type": "code",
   "execution_count": null,
   "id": "da0dc740-f09c-4c95-9902-f28b68c814e6",
   "metadata": {},
   "outputs": [],
   "source": [
    "# Average mv per color and throughout the whole set\n",
    "def average_mv_by_color(set: str) -> list[float]:\n",
    "    set_df = df[(df['set'] == set) & (df['booster'] == True) & (~df['type_line'].astype(str).str.contains('Land'))]\n",
    "    set_df.loc[:, 'colors'] = set_df['colors'].apply(''.join)\n",
    "    colors = set_df.colors.unique()\n",
    "    d = {color: (set_df[set_df['colors'] == color]['cmc']).mean() for color in colors}\n",
    "    mv_by_color = sns.barplot(x=list(d), y=list(d.values()))\n",
    "    for item in mv_by_color.get_xticklabels():\n",
    "        item.set_rotation(90)"
   ]
  },
  {
   "cell_type": "code",
   "execution_count": null,
   "id": "57fc852b-a283-4723-8fe7-b85a7c7e0457",
   "metadata": {},
   "outputs": [],
   "source": [
    "average_mv_by_color('2x2')"
   ]
  },
  {
   "cell_type": "code",
   "execution_count": null,
   "id": "cb96f0d9-6ada-41fa-b59d-e0886fb80cf9",
   "metadata": {},
   "outputs": [],
   "source": [
    "def get_set(set_name: str, without_basic_lands: bool = True) -> pd.DataFrame:\n",
    "    \"\"\"\n",
    "    set_name: set name abbreviation, three letters\n",
    "    without_basic_lands: should the resulting DataFrame containg land cards\n",
    "    return: pd.DataFrame containing all cards of the given set\n",
    "    \"\"\"\n",
    "    set_df = df[df['set'] == set_name]\n",
    "    set_df = set_df[set_df['booster'] == True]\n",
    "    \n",
    "    # Color\n",
    "    def color_handling(color_list: list) -> str:\n",
    "        if color_list is np.nan:  # Double Faced cards\n",
    "            return 'C'\n",
    "        elif not color_list:\n",
    "            return 'C'\n",
    "        else:\n",
    "            color_order = 'WUBRG'\n",
    "            return ''.join(sorted(color_list, key=lambda colors: [color_order.index(c) for c in colors]))\n",
    "    \n",
    "    set_df['colors'] = set_df['colors'].apply(color_handling)\n",
    "    \n",
    "    # Type Line - One Hot Encoded\n",
    "    card_types = ['Land', 'Creature', 'Artifact', 'Enchantment', 'Planeswalker', 'Instant', 'Sorcery']\n",
    "    for card_type in card_types:\n",
    "        set_df[card_type.lower()] = set_df['type_line'].str.contains(card_type)\n",
    "        # Not looking at any subtypes e.g. Equipment, Aura, etc.\n",
    "    \n",
    "    \n",
    "    # Lands\n",
    "    if not without_basic_lands:\n",
    "        return set_df\n",
    "    \n",
    "    set_df = set_df[~set_df['type_line'].astype(str).str.contains('Basic Land')]\n",
    "        \n",
    "    return set_df"
   ]
  },
  {
   "cell_type": "code",
   "execution_count": null,
   "id": "5b809ef6-d1df-49bd-885a-efa5fe5e4810",
   "metadata": {},
   "outputs": [],
   "source": [
    "dmu_df = get_set('dmu')\n",
    "\n",
    "dmu_df.head()"
   ]
  },
  {
   "cell_type": "code",
   "execution_count": null,
   "id": "e92e88c3-1ea2-4c2f-ae2a-5d4bb50d2318",
   "metadata": {},
   "outputs": [],
   "source": [
    "def visualize_set(set_name: str) -> None:\n",
    "    fig, axes = plt.subplots(1, 3, figsize=(15, 5))\n",
    "    \n",
    "    set_df = get_set(set_name)\n",
    "    \n",
    "    # Anzahl der Karten pro Farbe\n",
    "    axes[0].set_title('Anzahl der Karten pro Farbe')\n",
    "    cards_per_color = set_df.groupby(['colors'])['colors'].count()\n",
    "    sns.barplot(ax=axes[0], x=cards_per_color.index, y=cards_per_color.values)\n",
    "    for item in axes[0].get_xticklabels():\n",
    "        item.set_rotation(90)\n",
    "    \n",
    "    # Anzahl der Karten pro Kartentyp\n",
    "    axes[1].set_title('Anzahl der Karten pro Kartentype')\n",
    "    cards_per_type = []\n",
    "    card_types = ['Land', 'Creature', 'Artifact', 'Enchantment', 'Planeswalker', 'Instant', 'Sorcery']\n",
    "    for card_type in card_types:\n",
    "        cards_per_type.append(set_df[card_type.lower()].values.sum())\n",
    "    sns.barplot(ax=axes[1], x=card_types, y=cards_per_type)\n",
    "    for item in axes[1].get_xticklabels():\n",
    "        item.set_rotation(90)\n",
    "        \n",
    "    # Anzahl der Karten pro Seltenheit\n",
    "    axes[2].set_title('Anzahl der Karten pro Seltenheit')\n",
    "    rarity_order = ['common', 'uncommon', 'rare', 'mythic']\n",
    "    cards_per_rarity = set_df.groupby(['rarity'])['rarity'].count()\n",
    "    cards_per_rarity.sort_index(inplace=True, key=lambda idxs: [rarity_order.index(i) for i in idxs])  # has to return list the same size as the Series \n",
    "    sns.barplot(ax=axes[2], x=cards_per_rarity.index, y=cards_per_rarity.values, palette=['Black', 'Grey', 'Gold', 'Orange'])"
   ]
  },
  {
   "cell_type": "code",
   "execution_count": null,
   "id": "b2ad69d4-45cd-4b29-8ad2-d542bc330524",
   "metadata": {},
   "outputs": [],
   "source": [
    "visualize_set('dmu')"
   ]
  },
  {
   "cell_type": "code",
   "execution_count": null,
   "id": "34b7c89f-1f24-4292-a149-9b400f1c07a5",
   "metadata": {},
   "outputs": [],
   "source": [
    "def visualize_sets(set_names: list[str]) -> None:\n",
    "    fig, axes = plt.subplots(len(set_names), 3, figsize=(15, 5 * len(set_names)), sharex='col')\n",
    "    \n",
    "    axes[0][0].set_title('Anzahl der Karten pro Farbkombination')\n",
    "    axes[0][1].set_title('Anzahl der Karten pro Kartentype')\n",
    "    axes[0][2].set_title('Anzahl der Karten pro Seltenheit')\n",
    "    \n",
    "    for i, s in enumerate(set_names):\n",
    "        set_df = get_set(s)\n",
    "        \n",
    "        axes[i][0].set_ylabel(s)\n",
    "        \n",
    "        # Anzahl der Karten pro Farbe\n",
    "        color_order = ['C', 'W', 'U', 'B', 'R', 'G',\n",
    "                       'WU', 'UB', 'BR', 'RG', 'WG', 'WB', 'UR', 'BG', 'WR', 'UG',\n",
    "                       'WUB', 'UBR', 'BRG', 'WRG', 'WUG', 'WBG', 'WUR', 'UBG', 'WBR', 'URG',\n",
    "                       'WUBR', 'UBRG', 'WBRG', 'WURG', 'WUBG', \n",
    "                       'WUBRG']\n",
    "        # cards_per_color = set_df.groupby(['colors'])['colors'].count()\n",
    "        # cards_per_color.sort_index(inplace=True, key=lambda colors: [color_order.index(c) for c in colors])\n",
    "        cards_per_color = []\n",
    "        for color in color_order:\n",
    "            cards_per_color.append(len(set_df[set_df['colors'].str.fullmatch(color)].index))\n",
    "        sns.barplot(ax=axes[i][0], x=color_order, y=cards_per_color)\n",
    "        for item in axes[i][0].get_xticklabels():\n",
    "            item.set_rotation(90)\n",
    "    \n",
    "        # Anzahl der Karten pro Kartentyp\n",
    "        cards_per_type = []\n",
    "        card_types = ['Land', 'Creature', 'Artifact', 'Enchantment', 'Planeswalker', 'Instant', 'Sorcery']\n",
    "        for card_type in card_types:\n",
    "            cards_per_type.append(set_df[card_type.lower()].values.sum())\n",
    "        sns.barplot(ax=axes[i][1], x=card_types, y=cards_per_type)\n",
    "        for item in axes[i][1].get_xticklabels():\n",
    "            item.set_rotation(90)\n",
    "        \n",
    "        # Anzahl der Karten pro Seltenheit\n",
    "        rarity_order = ['common', 'uncommon', 'rare', 'mythic']\n",
    "        cards_per_rarity = set_df.groupby(['rarity'])['rarity'].count()\n",
    "        cards_per_rarity.sort_index(inplace=True, key=lambda idxs: [rarity_order.index(i) for i in idxs])  # has to return list the same size as the Series \n",
    "        sns.barplot(ax=axes[i][2], x=cards_per_rarity.index.values, y=cards_per_rarity.values, palette=['Black', 'Grey', 'Gold', 'Orange'])"
   ]
  },
  {
   "cell_type": "code",
   "execution_count": null,
   "id": "d77a9320-7d45-4c90-b476-0447dfb0ce9e",
   "metadata": {},
   "outputs": [],
   "source": [
    "visualize_sets(['dmu', 'snc', 'neo', 'vow', 'mid'])"
   ]
  }
 ],
 "metadata": {
  "kernelspec": {
   "display_name": "Python 3 (ipykernel)",
   "language": "python",
   "name": "python3"
  },
  "language_info": {
   "codemirror_mode": {
    "name": "ipython",
    "version": 3
   },
   "file_extension": ".py",
   "mimetype": "text/x-python",
   "name": "python",
   "nbconvert_exporter": "python",
   "pygments_lexer": "ipython3",
   "version": "3.10.6"
  }
 },
 "nbformat": 4,
 "nbformat_minor": 5
}
