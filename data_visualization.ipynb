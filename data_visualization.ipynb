{
 "cells": [
  {
   "cell_type": "code",
   "execution_count": 1,
   "id": "1f9f29fc-297c-40a5-aa01-f7fa0546cf01",
   "metadata": {},
   "outputs": [],
   "source": [
    "# Import statements\n",
    "import numpy as np\n",
    "import pandas as pd\n",
    "import seaborn as sns\n",
    "\n",
    "%matplotlib inline"
   ]
  },
  {
   "cell_type": "code",
   "execution_count": 2,
   "id": "79896ac1-6587-4677-9316-a567c453fbac",
   "metadata": {},
   "outputs": [
    {
     "data": {
      "text/html": [
       "<div>\n",
       "<style scoped>\n",
       "    .dataframe tbody tr th:only-of-type {\n",
       "        vertical-align: middle;\n",
       "    }\n",
       "\n",
       "    .dataframe tbody tr th {\n",
       "        vertical-align: top;\n",
       "    }\n",
       "\n",
       "    .dataframe thead th {\n",
       "        text-align: right;\n",
       "    }\n",
       "</style>\n",
       "<table border=\"1\" class=\"dataframe\">\n",
       "  <thead>\n",
       "    <tr style=\"text-align: right;\">\n",
       "      <th></th>\n",
       "      <th>object</th>\n",
       "      <th>id</th>\n",
       "      <th>oracle_id</th>\n",
       "      <th>multiverse_ids</th>\n",
       "      <th>mtgo_id</th>\n",
       "      <th>mtgo_foil_id</th>\n",
       "      <th>tcgplayer_id</th>\n",
       "      <th>cardmarket_id</th>\n",
       "      <th>name</th>\n",
       "      <th>lang</th>\n",
       "      <th>...</th>\n",
       "      <th>tcgplayer_etched_id</th>\n",
       "      <th>attraction_lights</th>\n",
       "      <th>color_indicator</th>\n",
       "      <th>life_modifier</th>\n",
       "      <th>hand_modifier</th>\n",
       "      <th>printed_type_line</th>\n",
       "      <th>printed_text</th>\n",
       "      <th>content_warning</th>\n",
       "      <th>flavor_name</th>\n",
       "      <th>variation_of</th>\n",
       "    </tr>\n",
       "  </thead>\n",
       "  <tbody>\n",
       "    <tr>\n",
       "      <th>0</th>\n",
       "      <td>card</td>\n",
       "      <td>0000579f-7b35-4ed3-b44c-db2a538066fe</td>\n",
       "      <td>44623693-51d6-49ad-8cd7-140505caf02f</td>\n",
       "      <td>[109722]</td>\n",
       "      <td>25527.0</td>\n",
       "      <td>25528.0</td>\n",
       "      <td>14240.0</td>\n",
       "      <td>13850.0</td>\n",
       "      <td>Fury Sliver</td>\n",
       "      <td>en</td>\n",
       "      <td>...</td>\n",
       "      <td>NaN</td>\n",
       "      <td>NaN</td>\n",
       "      <td>NaN</td>\n",
       "      <td>NaN</td>\n",
       "      <td>NaN</td>\n",
       "      <td>NaN</td>\n",
       "      <td>NaN</td>\n",
       "      <td>NaN</td>\n",
       "      <td>NaN</td>\n",
       "      <td>NaN</td>\n",
       "    </tr>\n",
       "    <tr>\n",
       "      <th>1</th>\n",
       "      <td>card</td>\n",
       "      <td>00006596-1166-4a79-8443-ca9f82e6db4e</td>\n",
       "      <td>8ae3562f-28b7-4462-96ed-be0cf7052ccc</td>\n",
       "      <td>[189637]</td>\n",
       "      <td>34586.0</td>\n",
       "      <td>34587.0</td>\n",
       "      <td>33347.0</td>\n",
       "      <td>21851.0</td>\n",
       "      <td>Kor Outfitter</td>\n",
       "      <td>en</td>\n",
       "      <td>...</td>\n",
       "      <td>NaN</td>\n",
       "      <td>NaN</td>\n",
       "      <td>NaN</td>\n",
       "      <td>NaN</td>\n",
       "      <td>NaN</td>\n",
       "      <td>NaN</td>\n",
       "      <td>NaN</td>\n",
       "      <td>NaN</td>\n",
       "      <td>NaN</td>\n",
       "      <td>NaN</td>\n",
       "    </tr>\n",
       "    <tr>\n",
       "      <th>2</th>\n",
       "      <td>card</td>\n",
       "      <td>0000a54c-a511-4925-92dc-01b937f9afad</td>\n",
       "      <td>dc4e2134-f0c2-49aa-9ea3-ebf83af1445c</td>\n",
       "      <td>[]</td>\n",
       "      <td>NaN</td>\n",
       "      <td>NaN</td>\n",
       "      <td>98659.0</td>\n",
       "      <td>NaN</td>\n",
       "      <td>Spirit</td>\n",
       "      <td>en</td>\n",
       "      <td>...</td>\n",
       "      <td>NaN</td>\n",
       "      <td>NaN</td>\n",
       "      <td>NaN</td>\n",
       "      <td>NaN</td>\n",
       "      <td>NaN</td>\n",
       "      <td>NaN</td>\n",
       "      <td>NaN</td>\n",
       "      <td>NaN</td>\n",
       "      <td>NaN</td>\n",
       "      <td>NaN</td>\n",
       "    </tr>\n",
       "    <tr>\n",
       "      <th>3</th>\n",
       "      <td>card</td>\n",
       "      <td>0000cd57-91fe-411f-b798-646e965eec37</td>\n",
       "      <td>9f0d82ae-38bf-45d8-8cda-982b6ead1d72</td>\n",
       "      <td>[435231]</td>\n",
       "      <td>65170.0</td>\n",
       "      <td>65171.0</td>\n",
       "      <td>145764.0</td>\n",
       "      <td>301766.0</td>\n",
       "      <td>Siren Lookout</td>\n",
       "      <td>en</td>\n",
       "      <td>...</td>\n",
       "      <td>NaN</td>\n",
       "      <td>NaN</td>\n",
       "      <td>NaN</td>\n",
       "      <td>NaN</td>\n",
       "      <td>NaN</td>\n",
       "      <td>NaN</td>\n",
       "      <td>NaN</td>\n",
       "      <td>NaN</td>\n",
       "      <td>NaN</td>\n",
       "      <td>NaN</td>\n",
       "    </tr>\n",
       "    <tr>\n",
       "      <th>4</th>\n",
       "      <td>card</td>\n",
       "      <td>00012bd8-ed68-4978-a22d-f450c8a6e048</td>\n",
       "      <td>5aa12aff-db3c-4be5-822b-3afdf536b33e</td>\n",
       "      <td>[1278]</td>\n",
       "      <td>NaN</td>\n",
       "      <td>NaN</td>\n",
       "      <td>1623.0</td>\n",
       "      <td>5664.0</td>\n",
       "      <td>Web</td>\n",
       "      <td>en</td>\n",
       "      <td>...</td>\n",
       "      <td>NaN</td>\n",
       "      <td>NaN</td>\n",
       "      <td>NaN</td>\n",
       "      <td>NaN</td>\n",
       "      <td>NaN</td>\n",
       "      <td>NaN</td>\n",
       "      <td>NaN</td>\n",
       "      <td>NaN</td>\n",
       "      <td>NaN</td>\n",
       "      <td>NaN</td>\n",
       "    </tr>\n",
       "  </tbody>\n",
       "</table>\n",
       "<p>5 rows × 84 columns</p>\n",
       "</div>"
      ],
      "text/plain": [
       "  object                                    id  \\\n",
       "0   card  0000579f-7b35-4ed3-b44c-db2a538066fe   \n",
       "1   card  00006596-1166-4a79-8443-ca9f82e6db4e   \n",
       "2   card  0000a54c-a511-4925-92dc-01b937f9afad   \n",
       "3   card  0000cd57-91fe-411f-b798-646e965eec37   \n",
       "4   card  00012bd8-ed68-4978-a22d-f450c8a6e048   \n",
       "\n",
       "                              oracle_id multiverse_ids  mtgo_id  mtgo_foil_id  \\\n",
       "0  44623693-51d6-49ad-8cd7-140505caf02f       [109722]  25527.0       25528.0   \n",
       "1  8ae3562f-28b7-4462-96ed-be0cf7052ccc       [189637]  34586.0       34587.0   \n",
       "2  dc4e2134-f0c2-49aa-9ea3-ebf83af1445c             []      NaN           NaN   \n",
       "3  9f0d82ae-38bf-45d8-8cda-982b6ead1d72       [435231]  65170.0       65171.0   \n",
       "4  5aa12aff-db3c-4be5-822b-3afdf536b33e         [1278]      NaN           NaN   \n",
       "\n",
       "   tcgplayer_id  cardmarket_id           name lang  ... tcgplayer_etched_id  \\\n",
       "0       14240.0        13850.0    Fury Sliver   en  ...                 NaN   \n",
       "1       33347.0        21851.0  Kor Outfitter   en  ...                 NaN   \n",
       "2       98659.0            NaN         Spirit   en  ...                 NaN   \n",
       "3      145764.0       301766.0  Siren Lookout   en  ...                 NaN   \n",
       "4        1623.0         5664.0            Web   en  ...                 NaN   \n",
       "\n",
       "  attraction_lights color_indicator life_modifier  hand_modifier  \\\n",
       "0               NaN             NaN           NaN            NaN   \n",
       "1               NaN             NaN           NaN            NaN   \n",
       "2               NaN             NaN           NaN            NaN   \n",
       "3               NaN             NaN           NaN            NaN   \n",
       "4               NaN             NaN           NaN            NaN   \n",
       "\n",
       "  printed_type_line printed_text content_warning  flavor_name variation_of  \n",
       "0               NaN          NaN             NaN          NaN          NaN  \n",
       "1               NaN          NaN             NaN          NaN          NaN  \n",
       "2               NaN          NaN             NaN          NaN          NaN  \n",
       "3               NaN          NaN             NaN          NaN          NaN  \n",
       "4               NaN          NaN             NaN          NaN          NaN  \n",
       "\n",
       "[5 rows x 84 columns]"
      ]
     },
     "execution_count": 2,
     "metadata": {},
     "output_type": "execute_result"
    }
   ],
   "source": [
    "# Load the data into a pandas DataFrame\n",
    "df = pd.read_json('bulk_data_default_cards.json')\n",
    "\n",
    "df.head()"
   ]
  },
  {
   "cell_type": "code",
   "execution_count": 3,
   "id": "04808352-0208-48b9-a949-444a5991680d",
   "metadata": {},
   "outputs": [
    {
     "data": {
      "text/plain": [
       "(74412, 84)"
      ]
     },
     "execution_count": 3,
     "metadata": {},
     "output_type": "execute_result"
    }
   ],
   "source": [
    "df.shape"
   ]
  },
  {
   "cell_type": "code",
   "execution_count": 4,
   "id": "e2439916-9db9-4901-bd88-6ff6708da274",
   "metadata": {},
   "outputs": [
    {
     "data": {
      "text/plain": [
       "array(['object', 'id', 'oracle_id', 'multiverse_ids', 'mtgo_id',\n",
       "       'mtgo_foil_id', 'tcgplayer_id', 'cardmarket_id', 'name', 'lang',\n",
       "       'released_at', 'uri', 'scryfall_uri', 'layout', 'highres_image',\n",
       "       'image_status', 'image_uris', 'mana_cost', 'cmc', 'type_line',\n",
       "       'oracle_text', 'power', 'toughness', 'colors', 'color_identity',\n",
       "       'keywords', 'legalities', 'games', 'reserved', 'foil', 'nonfoil',\n",
       "       'finishes', 'oversized', 'promo', 'reprint', 'variation', 'set_id',\n",
       "       'set', 'set_name', 'set_type', 'set_uri', 'set_search_uri',\n",
       "       'scryfall_set_uri', 'rulings_uri', 'prints_search_uri',\n",
       "       'collector_number', 'digital', 'rarity', 'flavor_text',\n",
       "       'card_back_id', 'artist', 'artist_ids', 'illustration_id',\n",
       "       'border_color', 'frame', 'full_art', 'textless', 'booster',\n",
       "       'story_spotlight', 'edhrec_rank', 'penny_rank', 'prices',\n",
       "       'related_uris', 'all_parts', 'promo_types', 'arena_id', 'preview',\n",
       "       'security_stamp', 'produced_mana', 'watermark', 'loyalty',\n",
       "       'frame_effects', 'printed_name', 'card_faces',\n",
       "       'tcgplayer_etched_id', 'attraction_lights', 'color_indicator',\n",
       "       'life_modifier', 'hand_modifier', 'printed_type_line',\n",
       "       'printed_text', 'content_warning', 'flavor_name', 'variation_of'],\n",
       "      dtype=object)"
      ]
     },
     "execution_count": 4,
     "metadata": {},
     "output_type": "execute_result"
    }
   ],
   "source": [
    "# These are all the columns of our DataFrame and thus all the information provided for a Magic: The Gathering card\n",
    "df.columns.values"
   ]
  },
  {
   "cell_type": "code",
   "execution_count": 5,
   "id": "0b0bd996-0cc3-4552-959b-b57665da8382",
   "metadata": {},
   "outputs": [
    {
     "data": {
      "text/plain": [
       "(434, 84)"
      ]
     },
     "execution_count": 5,
     "metadata": {},
     "output_type": "execute_result"
    }
   ],
   "source": [
    "# Kick things off by taking a look at the most recent (as of 20.10.2022) set \"Dominare United\" (DMU)\n",
    "dmu_df = df[df['set'] == 'dmu']\n",
    "\n",
    "dmu_df.shape"
   ]
  },
  {
   "cell_type": "code",
   "execution_count": 6,
   "id": "6860c1a1-4733-4e33-bfad-3abb2d707094",
   "metadata": {},
   "outputs": [
    {
     "data": {
      "text/html": [
       "<div>\n",
       "<style scoped>\n",
       "    .dataframe tbody tr th:only-of-type {\n",
       "        vertical-align: middle;\n",
       "    }\n",
       "\n",
       "    .dataframe tbody tr th {\n",
       "        vertical-align: top;\n",
       "    }\n",
       "\n",
       "    .dataframe thead th {\n",
       "        text-align: right;\n",
       "    }\n",
       "</style>\n",
       "<table border=\"1\" class=\"dataframe\">\n",
       "  <thead>\n",
       "    <tr style=\"text-align: right;\">\n",
       "      <th></th>\n",
       "      <th>object</th>\n",
       "      <th>id</th>\n",
       "      <th>oracle_id</th>\n",
       "      <th>multiverse_ids</th>\n",
       "      <th>mtgo_id</th>\n",
       "      <th>mtgo_foil_id</th>\n",
       "      <th>tcgplayer_id</th>\n",
       "      <th>cardmarket_id</th>\n",
       "      <th>name</th>\n",
       "      <th>lang</th>\n",
       "      <th>...</th>\n",
       "      <th>tcgplayer_etched_id</th>\n",
       "      <th>attraction_lights</th>\n",
       "      <th>color_indicator</th>\n",
       "      <th>life_modifier</th>\n",
       "      <th>hand_modifier</th>\n",
       "      <th>printed_type_line</th>\n",
       "      <th>printed_text</th>\n",
       "      <th>content_warning</th>\n",
       "      <th>flavor_name</th>\n",
       "      <th>variation_of</th>\n",
       "    </tr>\n",
       "  </thead>\n",
       "  <tbody>\n",
       "    <tr>\n",
       "      <th>19024</th>\n",
       "      <td>card</td>\n",
       "      <td>416429e0-4b7e-43d1-8126-16ab679b6e39</td>\n",
       "      <td>490a8045-e160-4ccf-a05e-658ad2b7ac2d</td>\n",
       "      <td>[578055]</td>\n",
       "      <td>NaN</td>\n",
       "      <td>NaN</td>\n",
       "      <td>283447.0</td>\n",
       "      <td>672432.0</td>\n",
       "      <td>Jodah, the Unifier</td>\n",
       "      <td>en</td>\n",
       "      <td>...</td>\n",
       "      <td>NaN</td>\n",
       "      <td>NaN</td>\n",
       "      <td>NaN</td>\n",
       "      <td>NaN</td>\n",
       "      <td>NaN</td>\n",
       "      <td>NaN</td>\n",
       "      <td>NaN</td>\n",
       "      <td>NaN</td>\n",
       "      <td>NaN</td>\n",
       "      <td>NaN</td>\n",
       "    </tr>\n",
       "    <tr>\n",
       "      <th>46422</th>\n",
       "      <td>card</td>\n",
       "      <td>9fb2313a-e002-4b37-9ecb-20bfe1799157</td>\n",
       "      <td>490a8045-e160-4ccf-a05e-658ad2b7ac2d</td>\n",
       "      <td>[577848]</td>\n",
       "      <td>NaN</td>\n",
       "      <td>NaN</td>\n",
       "      <td>283462.0</td>\n",
       "      <td>672406.0</td>\n",
       "      <td>Jodah, the Unifier</td>\n",
       "      <td>en</td>\n",
       "      <td>...</td>\n",
       "      <td>NaN</td>\n",
       "      <td>NaN</td>\n",
       "      <td>NaN</td>\n",
       "      <td>NaN</td>\n",
       "      <td>NaN</td>\n",
       "      <td>NaN</td>\n",
       "      <td>NaN</td>\n",
       "      <td>NaN</td>\n",
       "      <td>NaN</td>\n",
       "      <td>NaN</td>\n",
       "    </tr>\n",
       "    <tr>\n",
       "      <th>66620</th>\n",
       "      <td>card</td>\n",
       "      <td>e4b1aa1e-b4e3-4346-8937-76b312501c70</td>\n",
       "      <td>490a8045-e160-4ccf-a05e-658ad2b7ac2d</td>\n",
       "      <td>[574683]</td>\n",
       "      <td>102882.0</td>\n",
       "      <td>NaN</td>\n",
       "      <td>283614.0</td>\n",
       "      <td>672696.0</td>\n",
       "      <td>Jodah, the Unifier</td>\n",
       "      <td>en</td>\n",
       "      <td>...</td>\n",
       "      <td>NaN</td>\n",
       "      <td>NaN</td>\n",
       "      <td>NaN</td>\n",
       "      <td>NaN</td>\n",
       "      <td>NaN</td>\n",
       "      <td>NaN</td>\n",
       "      <td>NaN</td>\n",
       "      <td>NaN</td>\n",
       "      <td>NaN</td>\n",
       "      <td>NaN</td>\n",
       "    </tr>\n",
       "  </tbody>\n",
       "</table>\n",
       "<p>3 rows × 84 columns</p>\n",
       "</div>"
      ],
      "text/plain": [
       "      object                                    id  \\\n",
       "19024   card  416429e0-4b7e-43d1-8126-16ab679b6e39   \n",
       "46422   card  9fb2313a-e002-4b37-9ecb-20bfe1799157   \n",
       "66620   card  e4b1aa1e-b4e3-4346-8937-76b312501c70   \n",
       "\n",
       "                                  oracle_id multiverse_ids   mtgo_id  \\\n",
       "19024  490a8045-e160-4ccf-a05e-658ad2b7ac2d       [578055]       NaN   \n",
       "46422  490a8045-e160-4ccf-a05e-658ad2b7ac2d       [577848]       NaN   \n",
       "66620  490a8045-e160-4ccf-a05e-658ad2b7ac2d       [574683]  102882.0   \n",
       "\n",
       "       mtgo_foil_id  tcgplayer_id  cardmarket_id                name lang  \\\n",
       "19024           NaN      283447.0       672432.0  Jodah, the Unifier   en   \n",
       "46422           NaN      283462.0       672406.0  Jodah, the Unifier   en   \n",
       "66620           NaN      283614.0       672696.0  Jodah, the Unifier   en   \n",
       "\n",
       "       ... tcgplayer_etched_id attraction_lights color_indicator  \\\n",
       "19024  ...                 NaN               NaN             NaN   \n",
       "46422  ...                 NaN               NaN             NaN   \n",
       "66620  ...                 NaN               NaN             NaN   \n",
       "\n",
       "      life_modifier  hand_modifier printed_type_line printed_text  \\\n",
       "19024           NaN            NaN               NaN          NaN   \n",
       "46422           NaN            NaN               NaN          NaN   \n",
       "66620           NaN            NaN               NaN          NaN   \n",
       "\n",
       "      content_warning  flavor_name variation_of  \n",
       "19024             NaN          NaN          NaN  \n",
       "46422             NaN          NaN          NaN  \n",
       "66620             NaN          NaN          NaN  \n",
       "\n",
       "[3 rows x 84 columns]"
      ]
     },
     "execution_count": 6,
     "metadata": {},
     "output_type": "execute_result"
    }
   ],
   "source": [
    "# As we can see, we end up with a DataFrame containing 434 rows (cards) which matches the set size found on Scryfall.\n",
    "# \"All good so far!\" is what I'd like to say but lets inspect the DataFrame.\n",
    "dmu_df[dmu_df['name'] == 'Jodah, the Unifier']"
   ]
  },
  {
   "cell_type": "code",
   "execution_count": 7,
   "id": "97ecf8e6-0c44-468f-a126-82ee9a00b29d",
   "metadata": {},
   "outputs": [
    {
     "data": {
      "text/plain": [
       "(281, 84)"
      ]
     },
     "execution_count": 7,
     "metadata": {},
     "output_type": "execute_result"
    }
   ],
   "source": [
    "# What's that? We got several copies of the same card! Though they all have different IDs so they are not the same?\n",
    "# The thing is Magic: The Gathering started to have different prints of the same card in sets (fullart, special arts, etc.).\n",
    "# One way to get rid of these multiples is to also look for the value in the 'booster' column to be true.\n",
    "dmu_df = dmu_df[dmu_df['booster'] == True]\n",
    "\n",
    "dmu_df.shape"
   ]
  },
  {
   "cell_type": "code",
   "execution_count": 8,
   "id": "ccee6b1c-6599-452c-b39e-eba59bc441fe",
   "metadata": {},
   "outputs": [],
   "source": [
    "# With this we're down to 281 unique cards, which is in line with the official set size (can be found here: https://mtg.fandom.com/wiki/Dominaria_United)"
   ]
  },
  {
   "cell_type": "code",
   "execution_count": 9,
   "id": "79f47dae-9a81-45a5-9b8e-022c24bbbde5",
   "metadata": {},
   "outputs": [
    {
     "data": {
      "text/plain": [
       "Index([                       [],                     ['U'],\n",
       "                           ['B'],                     ['W'],\n",
       "                           ['G'],                     ['R'],\n",
       "                      ['G', 'W'],                ['B', 'G'],\n",
       "                      ['R', 'U'],                ['B', 'U'],\n",
       "                      ['G', 'R'],                ['R', 'W'],\n",
       "                      ['B', 'W'],                ['B', 'R'],\n",
       "                      ['G', 'U'],                ['U', 'W'],\n",
       "                 ['B', 'R', 'U'],           ['B', 'U', 'W'],\n",
       "                 ['G', 'U', 'W'],           ['G', 'R', 'W'],\n",
       "       ['B', 'G', 'R', 'U', 'W'],           ['B', 'G', 'R']],\n",
       "      dtype='object')"
      ]
     },
     "execution_count": 9,
     "metadata": {},
     "output_type": "execute_result"
    }
   ],
   "source": [
    "dmu_df.colors.value_counts().index"
   ]
  },
  {
   "cell_type": "code",
   "execution_count": 10,
   "id": "92eae2d3-3bcb-47be-8ce5-f0858bb2dc1b",
   "metadata": {},
   "outputs": [
    {
     "data": {
      "image/png": "[encoded data removed]",
      "text/plain": [
       "<Figure size 640x480 with 1 Axes>"
      ]
     },
     "metadata": {},
     "output_type": "display_data"
    }
   ],
   "source": [
    "# Plot how many cards we got of each color / color combination\n",
    "\n",
    "count_by_color = sns.barplot(x=[''.join(color for color in colors) for colors in dmu_df.colors.value_counts().index],\n",
    "                 y=dmu_df.colors.value_counts())\n",
    "\n",
    "for item in count_by_color.get_xticklabels():\n",
    "    item.set_rotation(90)"
   ]
  },
  {
   "cell_type": "code",
   "execution_count": 11,
   "id": "6b3460d2-2de6-4ee2-9930-4a534e0ec267",
   "metadata": {},
   "outputs": [
    {
     "data": {
      "text/plain": [
       "(242, 84)"
      ]
     },
     "execution_count": 11,
     "metadata": {},
     "output_type": "execute_result"
    }
   ],
   "source": [
    "# Oops! We really should remove 'Land' type cards when looking at the set (these count as colorless!)\n",
    "dmu_df_no_lands = dmu_df[~dmu_df['type_line'].astype(str).str.contains('Land')]\n",
    "\n",
    "dmu_df_no_lands.shape"
   ]
  },
  {
   "cell_type": "code",
   "execution_count": 12,
   "id": "7ad57cfb-ec49-4854-b063-3e4427bb3b19",
   "metadata": {},
   "outputs": [
    {
     "data": {
      "image/png": "[encoded data removed]",
      "text/plain": [
       "<Figure size 640x480 with 1 Axes>"
      ]
     },
     "metadata": {},
     "output_type": "display_data"
    }
   ],
   "source": [
    "# Yep, this checks out! We have 20 Basic Lands and 19 Non-Basic Lands thus 242 + 20 + 19 = 281 which is the number of cards\n",
    "# when filtered by set dmu and booster True. So let's plot the set again:\n",
    "count_by_color = sns.barplot(x=[''.join(color for color in colors) for colors in dmu_df_no_lands.colors.value_counts().index],\n",
    "                 y=dmu_df_no_lands.colors.value_counts())\n",
    "\n",
    "for item in count_by_color.get_xticklabels():\n",
    "    item.set_rotation(90)"
   ]
  },
  {
   "cell_type": "code",
   "execution_count": 13,
   "id": "48130a6f-aa96-4b72-ae78-cb2234d764b9",
   "metadata": {},
   "outputs": [],
   "source": [
    "# Wrap this up in a method..\n",
    "def plot_card_count_by_color(set: str) -> None:\n",
    "    set_df = df[(df['set'] == set) & (df['booster'] == True) & (~df['type_line'].astype(str).str.contains('Land'))]\n",
    "    set_colors = set_df.colors.value_counts()\n",
    "    count_by_color = sns.barplot(x=[''.join(color for color in colors) for colors in set_colors.index],\n",
    "                                 y=set_colors)\n",
    "    count_by_color.set(xlabel='Colors', ylabel='Count')\n",
    "    for item in count_by_color.get_xticklabels():\n",
    "        item.set_rotation(90)"
   ]
  },
  {
   "cell_type": "code",
   "execution_count": 14,
   "id": "1022880c-73f4-424b-809b-189b5d5ec1bb",
   "metadata": {},
   "outputs": [
    {
     "data": {
      "image/png": "[encoded data removed]",
      "text/plain": [
       "<Figure size 640x480 with 1 Axes>"
      ]
     },
     "metadata": {},
     "output_type": "display_data"
    }
   ],
   "source": [
    "# ..and use it for all the sets you want to\n",
    "plot_card_count_by_color('2x2')"
   ]
  },
  {
   "cell_type": "code",
   "execution_count": 15,
   "id": "0215f5da-9f8b-45c4-8540-710d40a220e6",
   "metadata": {},
   "outputs": [],
   "source": [
    "# Now the question arises, apart from card count by color what else is there to look at in a single set?\n",
    "# How about card cost by color? Maybe power and toughness of creature type cards?\n",
    "\n",
    "# Same graph for mana value (converted mana cost) per card:\n",
    "def plot_card_count_by_mv(set: str) -> None:\n",
    "    # We still do not want Lands as they are cards with mana value (mv) of 0\n",
    "    set_df = df[(df['set'] == set) & (df['booster'] == True) & (~df['type_line'].astype(str).str.contains('Land'))]\n",
    "    set_cmcs = set_df.cmc.value_counts()\n",
    "    count_by_cmc = sns.barplot(x=set_cmcs.index,\n",
    "                                 y=set_cmcs)\n",
    "    count_by_cmc.set(xlabel='Mana Cost', ylabel='Count')\n",
    "    for item in count_by_cmc.get_xticklabels():\n",
    "        item.set_rotation(90)"
   ]
  },
  {
   "cell_type": "code",
   "execution_count": 16,
   "id": "cdc1ee1e-5ffb-4fd6-a74e-31a9288275a2",
   "metadata": {
    "tags": []
   },
   "outputs": [
    {
     "data": {
      "image/png": "[encoded data removed]",
      "text/plain": [
       "<Figure size 640x480 with 1 Axes>"
      ]
     },
     "metadata": {},
     "output_type": "display_data"
    }
   ],
   "source": [
    "plot_card_count_by_mv('2x2')"
   ]
  },
  {
   "cell_type": "code",
   "execution_count": 17,
   "id": "da0dc740-f09c-4c95-9902-f28b68c814e6",
   "metadata": {},
   "outputs": [],
   "source": [
    "# Average mv per color and throughout the whole set\n",
    "def average_mv_by_color(set: str) -> list[float]:\n",
    "    set_df = df[(df['set'] == set) & (df['booster'] == True) & (~df['type_line'].astype(str).str.contains('Land'))]\n",
    "    set_df.loc[:, 'colors'] = set_df['colors'].apply(''.join)\n",
    "    colors = set_df.colors.unique()\n",
    "    d = {color: (set_df[set_df['colors'] == color]['cmc']).mean() for color in colors}\n",
    "    mv_by_color = sns.barplot(x=list(d), y=list(d.values()))\n",
    "    for item in mv_by_color.get_xticklabels():\n",
    "        item.set_rotation(90)"
   ]
  },
  {
   "cell_type": "code",
   "execution_count": 18,
   "id": "57fc852b-a283-4723-8fe7-b85a7c7e0457",
   "metadata": {},
   "outputs": [
    {
     "name": "stderr",
     "output_type": "stream",
     "text": [
      "C:\\Users\\Tim Eckle\\AppData\\Local\\Temp\\ipykernel_19568\\2592603810.py:4: SettingWithCopyWarning: \n",
      "A value is trying to be set on a copy of a slice from a DataFrame.\n",
      "Try using .loc[row_indexer,col_indexer] = value instead\n",
      "\n",
      "See the caveats in the documentation: https://pandas.pydata.org/pandas-docs/stable/user_guide/indexing.html#returning-a-view-versus-a-copy\n",
      "  set_df.loc[:, 'colors'] = set_df['colors'].apply(''.join)\n"
     ]
    },
    {
     "data": {
      "image/png": "[encoded data removed]",
      "text/plain": [
       "<Figure size 640x480 with 1 Axes>"
      ]
     },
     "metadata": {},
     "output_type": "display_data"
    }
   ],
   "source": [
    "average_mv_by_color('2x2')"
   ]
  }
 ],
 "metadata": {
  "kernelspec": {
   "display_name": "Python 3 (ipykernel)",
   "language": "python",
   "name": "python3"
  },
  "language_info": {
   "codemirror_mode": {
    "name": "ipython",
    "version": 3
   },
   "file_extension": ".py",
   "mimetype": "text/x-python",
   "name": "python",
   "nbconvert_exporter": "python",
   "pygments_lexer": "ipython3",
   "version": "3.10.6"
  }
 },
 "nbformat": 4,
 "nbformat_minor": 5
}
