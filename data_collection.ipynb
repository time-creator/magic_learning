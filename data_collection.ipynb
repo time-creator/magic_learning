{
 "cells": [
  {
   "cell_type": "markdown",
   "id": "6b7efb55-239c-4c73-8b34-cf15cd198ba1",
   "metadata": {
    "tags": []
   },
   "source": [
    "# Data Collection\n",
    "\n",
    "This Jupyter Notebook is for collecting data using the [Scryfall API](https://scryfall.com/docs/api).  \n",
    "\n",
    "The Scryfall API provides a way to download [bulk data](https://scryfall.com/docs/api/bulk-data) of all the Magic: The Gathering cards.  \n",
    "We're interested in the **Default Cards** file, as it contains all Magic: The Gathering cards including reprints.  \n",
    "The download URI for the Default Cards json file can be retrieved from the bulk data request. "
   ]
  },
  {
   "cell_type": "code",
   "execution_count": 3,
   "id": "98cd31a9-4b50-4b4f-8d6a-e4c7d37e8af2",
   "metadata": {},
   "outputs": [],
   "source": [
    "import requests\n",
    "\n",
    "r = requests.get('https://api.scryfall.com/bulk-data')\n",
    "\n",
    "if r.status_code == 200:\n",
    "    response_dict = r.json()\n",
    "    # get the download uri for the most recent bulk data default cards json file.\n",
    "    default_cards_download_uri = response_dict['data'][2]['download_uri']\n",
    "    # get and save the cards in a json file.\n",
    "    cards_r = requests.get(default_cards_download_uri)\n",
    "    if cards_r.status_code == 200:\n",
    "        with open('bulk_data_default_cards.json', 'wb') as f:\n",
    "            f.write(cards_r.content)"
   ]
  },
  {
   "cell_type": "markdown",
   "id": "d87e96fb-d2e4-4abf-9f90-e65ea649f92f",
   "metadata": {},
   "source": []
  }
 ],
 "metadata": {
  "kernelspec": {
   "display_name": "Python 3 (ipykernel)",
   "language": "python",
   "name": "python3"
  },
  "language_info": {
   "codemirror_mode": {
    "name": "ipython",
    "version": 3
   },
   "file_extension": ".py",
   "mimetype": "text/x-python",
   "name": "python",
   "nbconvert_exporter": "python",
   "pygments_lexer": "ipython3",
   "version": "3.10.6"
  },
  "toc-showcode": false,
  "toc-showmarkdowntxt": false
 },
 "nbformat": 4,
 "nbformat_minor": 5
}
