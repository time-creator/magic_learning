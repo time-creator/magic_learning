{
 "cells": [
  {
   "cell_type": "markdown",
   "id": "6b7efb55-239c-4c73-8b34-cf15cd198ba1",
   "metadata": {
    "tags": []
   },
   "source": [
    "# Data Collection\n",
    "\n",
    "This Jupyter Notebook is for collecting data using the [Scryfall API](https://scryfall.com/docs/api).\n",
    "\n",
    "In Magic: The Gathering each playing card can be assigned to a set. This is determined by whatever set the card was first printed  \n",
    "in (there can be several \"prints\" of the same card in differnt sets). The data will be seperated by set to reduce filesizes."
   ]
  },
  {
   "cell_type": "code",
   "execution_count": 2,
   "id": "98cd31a9-4b50-4b4f-8d6a-e4c7d37e8af2",
   "metadata": {},
   "outputs": [
    {
     "name": "stdout",
     "output_type": "stream",
     "text": [
      "Done\n"
     ]
    }
   ],
   "source": [
    "import requests\n",
    "\n",
    "r = requests.get('https://api.scryfall.com/bulk-data')\n",
    "\n",
    "if r.status_code == 200:\n",
    "    print(\"Done\")"
   ]
  },
  {
   "cell_type": "code",
   "execution_count": null,
   "id": "e6091a13-efa7-47c3-b69d-bae57f63586e",
   "metadata": {},
   "outputs": [],
   "source": []
  }
 ],
 "metadata": {
  "kernelspec": {
   "display_name": "Python 3 (ipykernel)",
   "language": "python",
   "name": "python3"
  },
  "language_info": {
   "codemirror_mode": {
    "name": "ipython",
    "version": 3
   },
   "file_extension": ".py",
   "mimetype": "text/x-python",
   "name": "python",
   "nbconvert_exporter": "python",
   "pygments_lexer": "ipython3",
   "version": "3.10.6"
  },
  "toc-showcode": false,
  "toc-showmarkdowntxt": false
 },
 "nbformat": 4,
 "nbformat_minor": 5
}
